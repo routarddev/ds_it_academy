{
 "cells": [
  {
   "cell_type": "markdown",
   "id": "9038be1c",
   "metadata": {},
   "source": [
    "# Sprint 3.4: Programació Numèrica"
   ]
  },
  {
   "cell_type": "markdown",
   "id": "f6492a99",
   "metadata": {},
   "source": [
    "## Objectius\n",
    "\n",
    "* Arrays\n",
    "* Matrius\n",
    "* Funcions"
   ]
  },
  {
   "cell_type": "markdown",
   "id": "278df66f",
   "metadata": {},
   "source": [
    "## Exercicis"
   ]
  },
  {
   "cell_type": "markdown",
   "id": "9ed46165",
   "metadata": {},
   "source": [
    "### Exercici 1\n",
    "\n",
    "**Crea una funció que donat un Array d’una dimensió, et faci un resum estadístic bàsic de les dades. Si detecta que l’array té més d’una dimensió, ha de mostrar un missatge d’error.**"
   ]
  },
  {
   "cell_type": "code",
   "execution_count": 1,
   "id": "45752675",
   "metadata": {},
   "outputs": [],
   "source": [
    "import numpy as np"
   ]
  },
  {
   "cell_type": "code",
   "execution_count": 2,
   "id": "cd45b415",
   "metadata": {},
   "outputs": [],
   "source": [
    "def get_info(array):\n",
    "    if (array.ndim > 1):\n",
    "        print(\"\\nThis array is bigger than 1 dimension.\")\n",
    "        return\n",
    "    \n",
    "    print(\"\\nDimension: \", array.ndim)\n",
    "    print(\"Number of elements: \", array.shape[0])\n",
    "    print(\"Type of elements: \", array.dtype)\n",
    "    print(\"Min: \", np.amin(array))\n",
    "    print(\"Max: \", np.amax(array))\n",
    "    print(\"Median: \", np.median(array))\n",
    "    print(\"Mean: \", np.mean(array))\n",
    "    print(\"Average: \", np.average(array))\n",
    "    print(\"Standard deviation: \", np.std(array))\n",
    "    print(\"Variance: \", np.var(array))\n"
   ]
  },
  {
   "cell_type": "code",
   "execution_count": 3,
   "id": "0ecf62ad",
   "metadata": {},
   "outputs": [
    {
     "name": "stdout",
     "output_type": "stream",
     "text": [
      "[ 75 464  36 175 194 216  76 465]\n",
      "\n",
      "Dimension:  1\n",
      "Number of elements:  8\n",
      "Type of elements:  int64\n",
      "Min:  36\n",
      "Max:  465\n",
      "Median:  184.5\n",
      "Mean:  212.625\n",
      "Average:  212.625\n",
      "Standard deviation:  157.10660194593987\n",
      "Variance:  24682.484375\n"
     ]
    }
   ],
   "source": [
    "array = np.random.randint(500, size=8, dtype='int64')\n",
    "print(array)\n",
    "get_info(array)"
   ]
  },
  {
   "cell_type": "markdown",
   "id": "26d515d8",
   "metadata": {},
   "source": [
    "### Exercici 2\n",
    "\n",
    "**Crea una funció que et generi un quadrat NxN de nombres aleatoris entre el 0 i el 100.**"
   ]
  },
  {
   "cell_type": "code",
   "execution_count": 4,
   "id": "b963c9d2",
   "metadata": {},
   "outputs": [
    {
     "name": "stdout",
     "output_type": "stream",
     "text": [
      "[[40 18 71 42 83 72 44]\n",
      " [63 95 30  7  9 56 60]\n",
      " [36  3 77 15 99 80 81]\n",
      " [44  5 60 50 61 21 13]\n",
      " [23 69 23 38 11 96 74]\n",
      " [14 50 37  8 90 21 93]\n",
      " [83 13 24 60 69 35 43]]\n"
     ]
    }
   ],
   "source": [
    "def create_matrix(n):\n",
    "    matrix = np.random.randint(1, 100, (n, n))\n",
    "    return matrix\n",
    "\n",
    "n_size = 7\n",
    "print(create_matrix(n_size))"
   ]
  },
  {
   "cell_type": "markdown",
   "id": "0e982b88",
   "metadata": {},
   "source": [
    "### Exercici 3\n",
    "\n",
    "**Crea una funció que donada una taula de dues dimensions, et calculi els totals per fila i els totals per columna.**"
   ]
  },
  {
   "cell_type": "code",
   "execution_count": 5,
   "id": "5a6570e7",
   "metadata": {},
   "outputs": [
    {
     "name": "stdout",
     "output_type": "stream",
     "text": [
      "[[60 35 93]\n",
      " [46 15 81]\n",
      " [66 51 82]\n",
      " [ 1 30 33]\n",
      " [65 25 29]]\n",
      "\n",
      "Total sum rows:  [188 142 199  64 119]\n",
      "\n",
      "Total sum cols:  [238 156 318]\n"
     ]
    }
   ],
   "source": [
    "def get_totals(matrix):\n",
    "    if (matrix.ndim > 2):\n",
    "        print(\"This matrix has more than 2 dimensions.\")\n",
    "    else:\n",
    "        sum_cols = matrix.sum(axis=0)\n",
    "        sum_rows = matrix.sum(axis=1)\n",
    "        return sum_rows, sum_cols\n",
    "        \n",
    "matrix = np.random.randint(1, 100, (5, 3))\n",
    "print(matrix)\n",
    "result = get_totals(matrix)\n",
    "print(\"\\nTotal sum rows: \", result[0])\n",
    "print(\"\\nTotal sum cols: \", result[1])"
   ]
  },
  {
   "cell_type": "code",
   "execution_count": 6,
   "id": "6854a62b",
   "metadata": {},
   "outputs": [
    {
     "name": "stdout",
     "output_type": "stream",
     "text": [
      "[[[[[1 2 3 4 5]]]]]\n",
      "5\n",
      "(1, 1, 1, 1, 5)\n"
     ]
    }
   ],
   "source": [
    "# Not related test\n",
    "matrix = np.array([1, 2, 3, 4, 5], ndmin=5)\n",
    "print(matrix)\n",
    "print(matrix.ndim)\n",
    "print(matrix.shape)"
   ]
  },
  {
   "cell_type": "markdown",
   "id": "a65a2fc8",
   "metadata": {},
   "source": [
    "### Exercici 4\n",
    "\n",
    "**Implementa manualment una funció que calculi el coeficient de correlació. Informa’t-en sobre els seus usos i interpretació.**"
   ]
  },
  {
   "cell_type": "markdown",
   "id": "55778c43",
   "metadata": {},
   "source": [
    "> Els **coeficients de correlació** són uns estadístics que avaluen numèricament la relació entre les variables. \n",
    "El més apropiat per a variables numèriques és el **coeficient de correlació de Pearson**, que avalua el grau de relació lineal.\n",
    "Per a dades ordinals s'usa el **coeficient de correlació de Spearman**.\n",
    "\n",
    "<br/>\n",
    "<u>Definició</u>: Donades dues variables numèriques X i Y , definides en els mateixos individus objectes, i que prenen conjuntament n parelles de valors (x<sub>1</sub>, y<sub>1</sub>), ... , (x <sub>i</sub>, y <sub>i</sub>), ..., (x<sub>n</sub>, y<sub>n</sub>), \n",
    "\n",
    "es defineix el **coeficient de correlació de Pearson de X i Y** (que denotarem _r_<sub>X,Y</sub> o bé _Corr_(X, Y ), o simplement _r_) com l’estadístic donat per l’expressió següent:\n",
    "\n",
    "\n",
    "$$r_{X,Y} = \\frac{Cov(X, Y)}{\\sqrt{Var(X)Var(Y)}} = \\frac{\\displaystyle\\sum_{i=1}^{n} (x_i - \\overline{X})(y_i - \\overline{Y})}{\\sqrt{\\displaystyle\\sum_{i=1}^{n} (x_i - \\overline{X})²\\displaystyle\\sum_{i=1}^{n}(y_i - \\overline{Y})²}}$$\n",
    "\n",
    "<br/><br/>\n",
    "Les propietats del coeficient de correlació són les següents:\n",
    "- És un valor entre [-1, 1]\n",
    "- El signe del coeficient indica el sentit de la relació (+: directa o creixent, -: inversa o decreixent).\n",
    "- El valor absolut indica el grau o intensitat de la relació, de manera que si és 0 vol dir que les variables X i Y són independents. \n",
    "\n",
    "<br/>\n",
    "\n",
    "Font: https://mat.uab.cat/~natalia/docencia-actual/politiques0708/classereg.pdf\n",
    "\n",
    "<br/>"
   ]
  },
  {
   "cell_type": "code",
   "execution_count": 7,
   "id": "3a20e5e3",
   "metadata": {},
   "outputs": [],
   "source": [
    "def correlation_coeficient(x, y):\n",
    "    avg_x = np.average(x)\n",
    "    avg_y = np.average(y)\n",
    "    \n",
    "    cov = np.sum(np.subtract(x, avg_x) * np.subtract(y, avg_y))\n",
    "    var_x = np.sum(np.power(np.subtract(x, avg_x), 2))\n",
    "    var_y = np.sum(np.power(np.subtract(y, avg_y), 2))\n",
    "    \n",
    "    #print(cov)\n",
    "    #print(var_x)\n",
    "    #print(var_y)\n",
    "    \n",
    "    coeficient = cov / (var_x * var_y)**0.5\n",
    "    \n",
    "    return coeficient\n"
   ]
  },
  {
   "cell_type": "code",
   "execution_count": 8,
   "id": "ca5af657",
   "metadata": {},
   "outputs": [
    {
     "name": "stdout",
     "output_type": "stream",
     "text": [
      "X =  [ 3 14 19  5  4 19  7 17 16 14 16  5]\n",
      "Y =  [14 15 14 17 17 19  4  9  9  6  2  4]\n",
      "-0.0317184\n"
     ]
    }
   ],
   "source": [
    "#rng = np.random.default_rng(seed=42)\n",
    "#x = rng.random((12, 1))\n",
    "#y = rng.random((12, 1))\n",
    "\n",
    "x = np.random.randint(20, size=12)\n",
    "y = np.random.randint(20, size=12)\n",
    "print(\"X = \", x)\n",
    "print(\"Y = \", y)\n",
    "\n",
    "coef = correlation_coeficient(x, y)\n",
    "print('{:.7f}'.format(coef))"
   ]
  },
  {
   "cell_type": "markdown",
   "id": "477874fe",
   "metadata": {},
   "source": [
    "Comprovació amb funcions de Numpy:"
   ]
  },
  {
   "cell_type": "code",
   "execution_count": 9,
   "id": "b1a9da33",
   "metadata": {},
   "outputs": [
    {
     "name": "stdout",
     "output_type": "stream",
     "text": [
      "[[ 1.         -0.03171837]\n",
      " [-0.03171837  1.        ]]\n"
     ]
    }
   ],
   "source": [
    "r1 = np.corrcoef(x, y)\n",
    "print(r1)"
   ]
  },
  {
   "cell_type": "markdown",
   "id": "a3654811",
   "metadata": {},
   "source": [
    "## Resources\n",
    "\n",
    "* https://www.w3schools.com/python/numpy/numpy_intro.asp\n",
    "* https://numpy.org/doc/stable/reference/routines.array-manipulation.html\n",
    "* https://numpy.org/doc/stable/reference/random/generated/numpy.random.randint.html\n",
    "* https://www.tutorialspoint.com/numpy/numpy_statistical_functions.htm\n",
    "* https://mat.uab.cat/~natalia/docencia-actual/politiques0708/classereg.pdf\n",
    "* https://numpy.org/doc/stable/reference/generated/numpy.corrcoef.html\n",
    "* https://realpython.com/numpy-array-programming/\n",
    "* https://stackoverflow.com/questions/36241608/numpy-broadcasting-calculating-sum-of-squared-differences-between-two-arrays"
   ]
  }
 ],
 "metadata": {
  "kernelspec": {
   "display_name": "Python 3",
   "language": "python",
   "name": "python3"
  },
  "language_info": {
   "codemirror_mode": {
    "name": "ipython",
    "version": 3
   },
   "file_extension": ".py",
   "mimetype": "text/x-python",
   "name": "python",
   "nbconvert_exporter": "python",
   "pygments_lexer": "ipython3",
   "version": "3.7.3"
  }
 },
 "nbformat": 4,
 "nbformat_minor": 5
}
