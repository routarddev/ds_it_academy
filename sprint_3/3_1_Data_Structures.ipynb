{
 "cells": [
  {
   "cell_type": "markdown",
   "id": "3d78f003",
   "metadata": {},
   "source": [
    "# Sprint 3.1: Data Structures"
   ]
  },
  {
   "cell_type": "markdown",
   "id": "a27fa5c3",
   "metadata": {},
   "source": [
    "## Objectius\n",
    "* Llistes\n",
    "* Tuples\n",
    "* Sets\n",
    "* Diccionaris"
   ]
  },
  {
   "cell_type": "markdown",
   "id": "608a3520",
   "metadata": {},
   "source": [
    "## Exercicis"
   ]
  },
  {
   "cell_type": "markdown",
   "id": "f1393ce3",
   "metadata": {},
   "source": [
    "### **Exercici 1**\n",
    "Crea una llista que agrupi els mesos de l’any en trimestres (1T: Gener, Febrer i Març, 2T: Abril, Maig, Juny...), és a dir, una llista amb 4 llistes dins."
   ]
  },
  {
   "cell_type": "code",
   "execution_count": 1,
   "id": "a9ebe459",
   "metadata": {},
   "outputs": [
    {
     "data": {
      "text/plain": [
       "[['1T', ['January', 'February', 'March']],\n",
       " ['2T', ['April', 'May', 'June']],\n",
       " ['3T', ['July', 'August', 'September']],\n",
       " ['4T', ['October', 'November', 'December']]]"
      ]
     },
     "execution_count": 1,
     "metadata": {},
     "output_type": "execute_result"
    }
   ],
   "source": [
    "quarters = [\n",
    "    ['1T', ['January', 'February', 'March']], \n",
    "    ['2T', ['April', 'May', 'June']], \n",
    "    ['3T', ['July', 'August', 'September']],\n",
    "    ['4T', ['October', 'November', 'December']]\n",
    "]\n",
    "\n",
    "quarters"
   ]
  },
  {
   "cell_type": "markdown",
   "id": "c738d3b5",
   "metadata": {},
   "source": [
    "### Exercici 2\n",
    "\n",
    "Crea un codi que et permeti accedir a:<br/>\n",
    "\n",
    "**El segon mes del primer trimestre**"
   ]
  },
  {
   "cell_type": "code",
   "execution_count": 2,
   "id": "0a529fc7",
   "metadata": {},
   "outputs": [
    {
     "name": "stdout",
     "output_type": "stream",
     "text": [
      "February\n"
     ]
    }
   ],
   "source": [
    "def get_quarter_month(quarter, month, all):\n",
    "    if all:\n",
    "        return quarters[quarter][1]\n",
    "    else:\n",
    "        return quarters[quarter][1][month]\n",
    "\n",
    "print(get_quarter_month(0, 1, False))"
   ]
  },
  {
   "cell_type": "markdown",
   "id": "f8d93c7b",
   "metadata": {},
   "source": [
    "**Els mesos del primer trimestre**"
   ]
  },
  {
   "cell_type": "code",
   "execution_count": 3,
   "id": "15b43cef",
   "metadata": {},
   "outputs": [
    {
     "name": "stdout",
     "output_type": "stream",
     "text": [
      "['January', 'February', 'March']\n"
     ]
    }
   ],
   "source": [
    "print(get_quarter_month(0, 0, True))"
   ]
  },
  {
   "cell_type": "markdown",
   "id": "d3d472b9",
   "metadata": {},
   "source": [
    "**Setembre i octubre**"
   ]
  },
  {
   "cell_type": "code",
   "execution_count": 4,
   "id": "e25928d9",
   "metadata": {},
   "outputs": [
    {
     "name": "stdout",
     "output_type": "stream",
     "text": [
      "('September', 'October')\n"
     ]
    }
   ],
   "source": [
    "set_oct = quarters[2][1][2], quarters[3][1][0]\n",
    "print(set_oct)"
   ]
  },
  {
   "cell_type": "markdown",
   "id": "346bcfa3",
   "metadata": {},
   "source": [
    "### Exercici 3\n",
    "\n",
    "**Crea una llista amb nombres desordenats i respon a les següents preguntes:**"
   ]
  },
  {
   "cell_type": "code",
   "execution_count": 5,
   "id": "e20b03d0",
   "metadata": {},
   "outputs": [
    {
     "name": "stdout",
     "output_type": "stream",
     "text": [
      "[8, 19, 2, 6, 5, 0, 19, 5, 3, 6, 16, 4, 2, 0, 12]\n"
     ]
    }
   ],
   "source": [
    "import random\n",
    "#Generate 20 random numbers between 1 and 15\n",
    "random_list = [random.randrange(20) for i in range(15)]\n",
    "print(random_list)"
   ]
  },
  {
   "cell_type": "markdown",
   "id": "b443a1a7",
   "metadata": {},
   "source": [
    "**Quants números hi ha?**"
   ]
  },
  {
   "cell_type": "code",
   "execution_count": 6,
   "id": "8127563f",
   "metadata": {},
   "outputs": [
    {
     "data": {
      "text/plain": [
       "15"
      ]
     },
     "execution_count": 6,
     "metadata": {},
     "output_type": "execute_result"
    }
   ],
   "source": [
    "len(random_list)"
   ]
  },
  {
   "cell_type": "markdown",
   "id": "f37dd563",
   "metadata": {},
   "source": [
    "**Quantes vegades apareix el número 3**"
   ]
  },
  {
   "cell_type": "code",
   "execution_count": 7,
   "id": "b3ae1721",
   "metadata": {},
   "outputs": [
    {
     "data": {
      "text/plain": [
       "1"
      ]
     },
     "execution_count": 7,
     "metadata": {},
     "output_type": "execute_result"
    }
   ],
   "source": [
    "random_list.count(3)"
   ]
  },
  {
   "cell_type": "markdown",
   "id": "f82c3524",
   "metadata": {},
   "source": [
    "**Quantes vegades apareixen els nombres 3 i 4?**"
   ]
  },
  {
   "cell_type": "code",
   "execution_count": 8,
   "id": "748dd005",
   "metadata": {},
   "outputs": [
    {
     "data": {
      "text/plain": [
       "[[3, 1], [4, 1]]"
      ]
     },
     "execution_count": 8,
     "metadata": {},
     "output_type": "execute_result"
    }
   ],
   "source": [
    "[[x,random_list.count(x)] for x in set([3, 4])]"
   ]
  },
  {
   "cell_type": "markdown",
   "id": "bf22d031",
   "metadata": {},
   "source": [
    "**Quin és el número més gran?**"
   ]
  },
  {
   "cell_type": "code",
   "execution_count": 9,
   "id": "7b88e212",
   "metadata": {},
   "outputs": [
    {
     "data": {
      "text/plain": [
       "19"
      ]
     },
     "execution_count": 9,
     "metadata": {},
     "output_type": "execute_result"
    }
   ],
   "source": [
    "max(random_list)"
   ]
  },
  {
   "cell_type": "markdown",
   "id": "5f407653",
   "metadata": {},
   "source": [
    "**Quins són els 3 números més petits?**"
   ]
  },
  {
   "cell_type": "code",
   "execution_count": 10,
   "id": "895b086d",
   "metadata": {},
   "outputs": [
    {
     "name": "stdout",
     "output_type": "stream",
     "text": [
      "[0, 0, 2, 2, 3, 4, 5, 5, 6, 6, 8, 12, 16, 19, 19]\n"
     ]
    }
   ],
   "source": [
    "random_list.sort()\n",
    "print(random_list)"
   ]
  },
  {
   "cell_type": "code",
   "execution_count": 11,
   "id": "51d4e3ee",
   "metadata": {},
   "outputs": [
    {
     "data": {
      "text/plain": [
       "[0, 0, 2]"
      ]
     },
     "execution_count": 11,
     "metadata": {},
     "output_type": "execute_result"
    }
   ],
   "source": [
    "random_list[:3]"
   ]
  },
  {
   "cell_type": "markdown",
   "id": "83424be4",
   "metadata": {},
   "source": [
    "**Quin és el rang d’aquesta llista?**"
   ]
  },
  {
   "cell_type": "markdown",
   "id": "f5277835",
   "metadata": {},
   "source": [
    "Nota: El **rang** es una mesura de dispersió, és a dir, una mesura de com les dades individuals poden diferir de la mitjana. El rang es calcula restant el valor mínim del màxim del conjunt.\n",
    "\n",
    "Fórmula per calcular el rang: ```rang = max(X) - min(X)``` , on X és el conjunt de valors."
   ]
  },
  {
   "cell_type": "code",
   "execution_count": 12,
   "id": "77b397dc",
   "metadata": {},
   "outputs": [
    {
     "data": {
      "text/plain": [
       "19"
      ]
     },
     "execution_count": 12,
     "metadata": {},
     "output_type": "execute_result"
    }
   ],
   "source": [
    "rang = max(random_list) - min(random_list)\n",
    "rang"
   ]
  },
  {
   "cell_type": "markdown",
   "id": "fb73762f",
   "metadata": {},
   "source": [
    "### Exercici 4\n",
    "\n",
    "**Crea un diccionari de la següent forma i respon a les preguntes:**\n",
    "\n",
    "```compra = { \"Pomes\" : {\"Qty\": 5, \"€\": 0.42}, \"Peres\" : {\"Qty\": 3, \"€\": 0.66} }```"
   ]
  },
  {
   "cell_type": "code",
   "execution_count": 13,
   "id": "101a6ef5",
   "metadata": {},
   "outputs": [
    {
     "data": {
      "text/plain": [
       "{'Pomes': {'Qty': 5, '€': 0.42}, 'Peres': {'Qty': 3, '€': 0.66}}"
      ]
     },
     "execution_count": 13,
     "metadata": {},
     "output_type": "execute_result"
    }
   ],
   "source": [
    "compra = { \"Pomes\" : {\"Qty\": 5, \"€\": 0.42}, \"Peres\" : {\"Qty\": 3, \"€\": 0.66} }\n",
    "compra"
   ]
  },
  {
   "cell_type": "code",
   "execution_count": 14,
   "id": "c85c2433",
   "metadata": {},
   "outputs": [
    {
     "data": {
      "text/plain": [
       "dict"
      ]
     },
     "execution_count": 14,
     "metadata": {},
     "output_type": "execute_result"
    }
   ],
   "source": [
    "type(compra)"
   ]
  },
  {
   "cell_type": "markdown",
   "id": "463e9347",
   "metadata": {},
   "source": [
    "**Afegeix alguna fruita més.**"
   ]
  },
  {
   "cell_type": "code",
   "execution_count": 15,
   "id": "7245a5c6",
   "metadata": {},
   "outputs": [
    {
     "data": {
      "text/plain": [
       "{'Pomes': {'Qty': 5, '€': 0.42},\n",
       " 'Peres': {'Qty': 3, '€': 0.66},\n",
       " 'Taronges': {'Qty': 8, '€': 2.5}}"
      ]
     },
     "execution_count": 15,
     "metadata": {},
     "output_type": "execute_result"
    }
   ],
   "source": [
    "compra[\"Taronges\"] = {\"Qty\": 8, \"€\": 2.50}\n",
    "compra"
   ]
  },
  {
   "cell_type": "code",
   "execution_count": 16,
   "id": "7dd2d97a",
   "metadata": {},
   "outputs": [
    {
     "name": "stdout",
     "output_type": "stream",
     "text": [
      "3\n"
     ]
    }
   ],
   "source": [
    "print(len(compra))"
   ]
  },
  {
   "cell_type": "markdown",
   "id": "4df1545f",
   "metadata": {},
   "source": [
    "**Quant han costat les peres en total?**"
   ]
  },
  {
   "cell_type": "code",
   "execution_count": 17,
   "id": "945e5bfb",
   "metadata": {},
   "outputs": [
    {
     "data": {
      "text/plain": [
       "1.98"
      ]
     },
     "execution_count": 17,
     "metadata": {},
     "output_type": "execute_result"
    }
   ],
   "source": [
    "preu_total_peres = compra[\"Peres\"][\"Qty\"] * compra[\"Peres\"][\"€\"]\n",
    "preu_total_peres"
   ]
  },
  {
   "cell_type": "markdown",
   "id": "111553db",
   "metadata": {},
   "source": [
    "**Quantes fruites hem comprat en total?**"
   ]
  },
  {
   "cell_type": "code",
   "execution_count": 18,
   "id": "ab627d1e",
   "metadata": {},
   "outputs": [
    {
     "name": "stdout",
     "output_type": "stream",
     "text": [
      "16\n"
     ]
    }
   ],
   "source": [
    "def total_fruites():\n",
    "    total = 0\n",
    "    for key in compra.keys():\n",
    "        total += compra[key][\"Qty\"]\n",
    "    return total\n",
    "\n",
    "print(total_fruites())"
   ]
  },
  {
   "cell_type": "markdown",
   "id": "6c5dc689",
   "metadata": {},
   "source": [
    "**Quina és la fruita més cara?**"
   ]
  },
  {
   "cell_type": "code",
   "execution_count": 19,
   "id": "fdd80e03",
   "metadata": {},
   "outputs": [
    {
     "name": "stdout",
     "output_type": "stream",
     "text": [
      "Taronges\n"
     ]
    }
   ],
   "source": [
    "def most_expensive():\n",
    "    fruit = \"None\"\n",
    "    aux_price = 0\n",
    "    for key in compra.keys():\n",
    "        unit_price = compra[key][\"€\"] / compra[key][\"Qty\"]\n",
    "        if aux_price < unit_price:\n",
    "            aux_price = unit_price\n",
    "            fruit = key\n",
    "    return fruit\n",
    "    \n",
    "print(most_expensive())"
   ]
  },
  {
   "cell_type": "markdown",
   "id": "9572a063",
   "metadata": {},
   "source": [
    "## Resources\n",
    "\n",
    "* https://www.w3schools.com/python/python_lists.asp\n",
    "* https://www.learnbyexample.org/python-nested-dictionary/\n",
    "* https://www.learnbyexample.org/python-nested-list/"
   ]
  }
 ],
 "metadata": {
  "kernelspec": {
   "display_name": "Python 3",
   "language": "python",
   "name": "python3"
  },
  "language_info": {
   "codemirror_mode": {
    "name": "ipython",
    "version": 3
   },
   "file_extension": ".py",
   "mimetype": "text/x-python",
   "name": "python",
   "nbconvert_exporter": "python",
   "pygments_lexer": "ipython3",
   "version": "3.7.7"
  }
 },
 "nbformat": 4,
 "nbformat_minor": 5
}
