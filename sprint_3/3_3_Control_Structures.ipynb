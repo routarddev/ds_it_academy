{
 "cells": [
  {
   "cell_type": "markdown",
   "id": "0f3e4933",
   "metadata": {},
   "source": [
    "# Sprint 3.3: Control Structures"
   ]
  },
  {
   "cell_type": "markdown",
   "id": "a676b162",
   "metadata": {},
   "source": [
    "## Objectius\n",
    "\n",
    "* Condicionals i bucles\n",
    "* if/else/elif\n",
    "* Funcions"
   ]
  },
  {
   "cell_type": "markdown",
   "id": "3ed31e0d",
   "metadata": {},
   "source": [
    "## Exercicis"
   ]
  },
  {
   "cell_type": "markdown",
   "id": "b6a0953f",
   "metadata": {},
   "source": [
    "### Exercici 1\n",
    "\n",
    "**L'exercici consisteix a crear un programa que et classifiqui una variable numèrica en funció de l’escala Suspès/Aprovat/Notable/Excel·lent.**"
   ]
  },
  {
   "cell_type": "code",
   "execution_count": 1,
   "id": "e8a3339a",
   "metadata": {},
   "outputs": [
    {
     "name": "stdout",
     "output_type": "stream",
     "text": [
      "Suspès\n",
      "Aprovat\n",
      "Notable\n",
      "Excel·lent\n"
     ]
    }
   ],
   "source": [
    "def evaluation(grade):\n",
    "    if grade > 10:\n",
    "        print(\"La nota ha d'estar entre 1 i 10.\")\n",
    "        \n",
    "    if grade < 5:\n",
    "        print(\"Suspès\")\n",
    "    elif grade < 7:\n",
    "        print(\"Aprovat\")\n",
    "    elif grade < 9:\n",
    "        print(\"Notable\")\n",
    "    else:\n",
    "        print(\"Excel·lent\")\n",
    "\n",
    "evaluation(4)\n",
    "evaluation(6)\n",
    "evaluation(8)\n",
    "evaluation(10)"
   ]
  },
  {
   "cell_type": "markdown",
   "id": "105fb5e7",
   "metadata": {},
   "source": [
    "### Exercici 2\n",
    "\n",
    "**Utilitzant el següent tutorial** [Programiz: Python Input, Output and Import](https://www.programiz.com/python-programming/input-output-import) **crea un programa que et pregunti dos números. T’ha de mostrar un missatge dient si el primer és més gran, el segon és més gran o són iguals.**"
   ]
  },
  {
   "cell_type": "code",
   "execution_count": 2,
   "id": "4611adcc",
   "metadata": {},
   "outputs": [
    {
     "name": "stdout",
     "output_type": "stream",
     "text": [
      "Enter a number: 5\n",
      "Enter a second number: 8\n",
      "5 < 8\n"
     ]
    }
   ],
   "source": [
    "def get_numbers():\n",
    "    a = input(\"Enter a number: \")\n",
    "    b = input(\"Enter a second number: \")\n",
    "    \n",
    "    result = \"\"\n",
    "    if a > b:\n",
    "        result = \"{0} > {1}\"\n",
    "    elif a != b:\n",
    "        result = \"{0} < {1}\"\n",
    "    else:\n",
    "        result = \"{0} == {1}\"\n",
    "        \n",
    "    print(result.format(a, b))\n",
    "        \n",
    "\n",
    "get_numbers()"
   ]
  },
  {
   "cell_type": "markdown",
   "id": "c0b8acc1",
   "metadata": {},
   "source": [
    "### Exercici 3\n",
    "\n",
    "**Crea un programa que et pregunti el teu nom, i et demani un número. Si el número és 0, hauria de mostrar un missatge d’error. En cas contrari, hauria de mostrar el nom repetit tants cops com indiqui el número. Per exemple, “Joan Joan Joan”.**"
   ]
  },
  {
   "cell_type": "code",
   "execution_count": 3,
   "id": "e61cb334",
   "metadata": {},
   "outputs": [
    {
     "name": "stdout",
     "output_type": "stream",
     "text": [
      "Write your name: Joan\n",
      "Enter a number: 6\n",
      "Joan Joan Joan Joan Joan Joan \n"
     ]
    }
   ],
   "source": [
    "def ask_name():\n",
    "    name = str(input(\"Write your name: \"))\n",
    "    number = int(input(\"Enter a number: \"))\n",
    "    \n",
    "    if number == 0:\n",
    "        print(\"Error\")\n",
    "    else:\n",
    "        print((name + ' ') * number)\n",
    "\n",
    "ask_name()"
   ]
  },
  {
   "cell_type": "markdown",
   "id": "c7da13d1",
   "metadata": {},
   "source": [
    "### Exercici 4\n",
    "\n",
    "**Crea un programa que donada una llista qualsevol, et digui si es simètrica o no. Si ho és, que et digui quants elements té.**"
   ]
  },
  {
   "cell_type": "code",
   "execution_count": 4,
   "id": "bd836df5",
   "metadata": {},
   "outputs": [
    {
     "name": "stdout",
     "output_type": "stream",
     "text": [
      "(False, 0)\n",
      "(True, 2)\n",
      "6\n",
      "6\n",
      "(True, 3)\n",
      "6\n",
      "6\n"
     ]
    }
   ],
   "source": [
    "def is_symmetric(array):\n",
    "    index = 0\n",
    "    size = int(len(array) / 2)\n",
    "    while index < size:\n",
    "        if array[index] != array[-index-1]: return False, 0\n",
    "        index +=1\n",
    "    return True, size\n",
    "    \n",
    "array = [1, 2, 4, 7, 8, 3, 2, 1]\n",
    "print(is_symmetric(array))\n",
    "\n",
    "array = [4, 7, 6, 7, 4]\n",
    "print(is_symmetric(array))\n",
    "print(array[2])\n",
    "print(array[-2-1])\n",
    "\n",
    "array = [4, 7, 6, 6, 7, 4]\n",
    "print(is_symmetric(array))\n",
    "print(array[2])\n",
    "print(array[-2-1])"
   ]
  },
  {
   "cell_type": "markdown",
   "id": "4e449b02",
   "metadata": {},
   "source": [
    "### Exercici 5\n",
    "\n",
    "**Crea un programa que donada una llista, et digui quants números coincideixen amb la seva posició. Per exemple** [3,4,2,0,2,3,6] **el 2 i el 6 coincideixen.**"
   ]
  },
  {
   "cell_type": "code",
   "execution_count": 5,
   "id": "708a28dd",
   "metadata": {},
   "outputs": [
    {
     "name": "stdout",
     "output_type": "stream",
     "text": [
      "[3, 4, 2, 0, 2, 3, 6]: for 2 numbers value == position\n"
     ]
    }
   ],
   "source": [
    "def value_position(array):\n",
    "    count = 0\n",
    "    index = 0\n",
    "    while index < len(array):\n",
    "        if array[index] == index:\n",
    "            count+=1\n",
    "        index+=1\n",
    "    return count\n",
    "\n",
    "array =  [3,4,2,0,2,3,6]\n",
    "print(\"{0}: for {1} numbers value == position\".format(array, value_position(array)))"
   ]
  },
  {
   "cell_type": "markdown",
   "id": "654b916e",
   "metadata": {},
   "source": [
    "## Resources\n",
    "\n",
    "* https://www.w3schools.com/python/python_conditions.asp\n",
    "* https://www.w3schools.com/python/python_functions.asp\n",
    "* https://www.programiz.com/python-programming/input-output-import\n",
    "* https://treyhunner.com/2016/04/how-to-loop-with-indexes-in-python/"
   ]
  }
 ],
 "metadata": {
  "kernelspec": {
   "display_name": "Python 3",
   "language": "python",
   "name": "python3"
  },
  "language_info": {
   "codemirror_mode": {
    "name": "ipython",
    "version": 3
   },
   "file_extension": ".py",
   "mimetype": "text/x-python",
   "name": "python",
   "nbconvert_exporter": "python",
   "pygments_lexer": "ipython3",
   "version": "3.7.7"
  }
 },
 "nbformat": 4,
 "nbformat_minor": 5
}
