{
 "cells": [
  {
   "cell_type": "markdown",
   "id": "64724b3f",
   "metadata": {},
   "source": [
    "# Sprint 3.2: Estructura d'una matriu"
   ]
  },
  {
   "cell_type": "markdown",
   "id": "63e2db7a",
   "metadata": {},
   "source": [
    "## Objectius\n",
    "* Dimensions, formes\n",
    "* Vectoritzacio, Broadcasting\n",
    "* Index i mask\n",
    "* Manipulació d'imatges amb Numpy"
   ]
  },
  {
   "cell_type": "markdown",
   "id": "361eddc2",
   "metadata": {},
   "source": [
    "## Exercicis"
   ]
  },
  {
   "cell_type": "markdown",
   "id": "710f0342",
   "metadata": {},
   "source": [
    "### Exercici 1\n",
    "\n",
    "**Crea un np.array d'una dimensió, que inclogui l'almenys 8 nombres sencers, data type int64. Mostra la dimensió i la forma de la matriu.**"
   ]
  },
  {
   "cell_type": "code",
   "execution_count": 1,
   "id": "ce34aa08",
   "metadata": {},
   "outputs": [],
   "source": [
    "import numpy as np"
   ]
  },
  {
   "cell_type": "code",
   "execution_count": 2,
   "id": "571762a8",
   "metadata": {},
   "outputs": [
    {
     "data": {
      "text/plain": [
       "array([ 53, 125, 188, 317, 157, 107, 235, 106])"
      ]
     },
     "execution_count": 2,
     "metadata": {},
     "output_type": "execute_result"
    }
   ],
   "source": [
    "array = np.random.randint(500, size=8, dtype='int64')\n",
    "array"
   ]
  },
  {
   "cell_type": "code",
   "execution_count": 3,
   "id": "90ef8669",
   "metadata": {},
   "outputs": [
    {
     "data": {
      "text/plain": [
       "1"
      ]
     },
     "execution_count": 3,
     "metadata": {},
     "output_type": "execute_result"
    }
   ],
   "source": [
    "array.ndim"
   ]
  },
  {
   "cell_type": "code",
   "execution_count": 4,
   "id": "95930f74",
   "metadata": {},
   "outputs": [
    {
     "name": "stdout",
     "output_type": "stream",
     "text": [
      "(8,)\n"
     ]
    }
   ],
   "source": [
    "print(array.shape)"
   ]
  },
  {
   "cell_type": "code",
   "execution_count": 5,
   "id": "612dc6fd",
   "metadata": {},
   "outputs": [
    {
     "name": "stdout",
     "output_type": "stream",
     "text": [
      "int64\n"
     ]
    }
   ],
   "source": [
    "print(array.dtype)"
   ]
  },
  {
   "cell_type": "markdown",
   "id": "ee74fc5f",
   "metadata": {},
   "source": [
    "### Exercici 2\n",
    "\n",
    "**De la matriu de l'exercici 1, calcula el valor mitjà dels valors introduïts i resta la mitjana resultant de cada un dels valors de la matriu.**"
   ]
  },
  {
   "cell_type": "code",
   "execution_count": 6,
   "id": "03d5efec",
   "metadata": {},
   "outputs": [
    {
     "data": {
      "text/plain": [
       "161.0"
      ]
     },
     "execution_count": 6,
     "metadata": {},
     "output_type": "execute_result"
    }
   ],
   "source": [
    "mean = np.mean(array)\n",
    "mean"
   ]
  },
  {
   "cell_type": "code",
   "execution_count": 7,
   "id": "2fa4bd5d",
   "metadata": {},
   "outputs": [
    {
     "data": {
      "text/plain": [
       "array([-108,  -36,   27,  156,   -4,  -54,   74,  -55])"
      ]
     },
     "execution_count": 7,
     "metadata": {},
     "output_type": "execute_result"
    }
   ],
   "source": [
    "new_array = np.subtract(array, int(mean))\n",
    "new_array"
   ]
  },
  {
   "cell_type": "markdown",
   "id": "2cbb5251",
   "metadata": {},
   "source": [
    "### Exercici 3\n",
    "\n",
    "**Crea una matriu bidimensional amb una forma de 5 x 5. Extreu el valor màxim de la matriu, i els valors màxims de cadascun dels seus eixos.**"
   ]
  },
  {
   "cell_type": "code",
   "execution_count": 8,
   "id": "fddb54d9",
   "metadata": {},
   "outputs": [
    {
     "name": "stdout",
     "output_type": "stream",
     "text": [
      "[[28 48  6 41 73]\n",
      " [ 6 71 64 99  3]\n",
      " [15 88 18 64 43]\n",
      " [45 75 84 32 55]\n",
      " [91 34 55 64  9]]\n",
      "number of dimensions : 2\n",
      "shape of the matrix: (5, 5)\n"
     ]
    }
   ],
   "source": [
    "#matrix = np.array([1, 2, 3, 4, 5], ndmin=5)\n",
    "\n",
    "matrix = np.random.randint(1, 100, (5, 5))\n",
    "print(matrix)\n",
    "print('number of dimensions :', matrix.ndim)\n",
    "print('shape of the matrix:', matrix.shape)"
   ]
  },
  {
   "cell_type": "code",
   "execution_count": 9,
   "id": "a42da589",
   "metadata": {},
   "outputs": [
    {
     "name": "stdout",
     "output_type": "stream",
     "text": [
      "Matrix max value:  99\n"
     ]
    }
   ],
   "source": [
    "print(\"Matrix max value: \", np.max(matrix))"
   ]
  },
  {
   "cell_type": "code",
   "execution_count": 10,
   "id": "59bfbd92",
   "metadata": {},
   "outputs": [
    {
     "name": "stdout",
     "output_type": "stream",
     "text": [
      "Row [28 48  6 41 73] max value: 73\n",
      "Row [ 6 71 64 99  3] max value: 99\n",
      "Row [15 88 18 64 43] max value: 88\n",
      "Row [45 75 84 32 55] max value: 84\n",
      "Row [91 34 55 64  9] max value: 91\n"
     ]
    }
   ],
   "source": [
    "for row in matrix:\n",
    "    print(\"Row {0} max value: {1}\".format(row, np.max(row)))"
   ]
  },
  {
   "cell_type": "markdown",
   "id": "13cbfaec",
   "metadata": {},
   "source": [
    "### Exercici 4\n",
    "\n",
    "**Mostreu-me amb exemples de diferents matrius, la regla fonamental de Broadcasting que diu : \"les matrius es poden transmetre / broadcast si les seves dimensions coincideixen o si una de les matrius té una mida d'1\".**"
   ]
  },
  {
   "cell_type": "code",
   "execution_count": 11,
   "id": "319cbba0",
   "metadata": {},
   "outputs": [
    {
     "name": "stdout",
     "output_type": "stream",
     "text": [
      "[[ 8 53 15 92 11]\n",
      " [89 94 85 87 50]\n",
      " [ 6 34 43 29 86]\n",
      " [87 80 71 45 30]\n",
      " [82 95 18 37 70]]\n",
      "number of dimensions : 2\n",
      "shape of the matrix: (5, 5)\n"
     ]
    }
   ],
   "source": [
    "matrix_a = np.random.randint(1, 100, (5, 5))\n",
    "print(matrix_a)\n",
    "print('number of dimensions :', matrix_a.ndim)\n",
    "print('shape of the matrix:', matrix_a.shape)"
   ]
  },
  {
   "cell_type": "code",
   "execution_count": 12,
   "id": "41a36078",
   "metadata": {},
   "outputs": [
    {
     "name": "stdout",
     "output_type": "stream",
     "text": [
      "[[ 1 57 65 59 46]\n",
      " [87 83 61  9 94]\n",
      " [37  7 65 14 55]\n",
      " [37 97 15 74 95]\n",
      " [65 10 35  8 74]]\n",
      "number of dimensions : 2\n",
      "shape of the matrix: (5, 5)\n"
     ]
    }
   ],
   "source": [
    "matrix_b = np.random.randint(1, 100, (5, 5))\n",
    "print(matrix_b)\n",
    "print('number of dimensions :', matrix_b.ndim)\n",
    "print('shape of the matrix:', matrix_b.shape)"
   ]
  },
  {
   "cell_type": "code",
   "execution_count": 13,
   "id": "2d3d42a6",
   "metadata": {},
   "outputs": [
    {
     "data": {
      "text/plain": [
       "array([[  9, 110,  80, 151,  57],\n",
       "       [176, 177, 146,  96, 144],\n",
       "       [ 43,  41, 108,  43, 141],\n",
       "       [124, 177,  86, 119, 125],\n",
       "       [147, 105,  53,  45, 144]])"
      ]
     },
     "execution_count": 13,
     "metadata": {},
     "output_type": "execute_result"
    }
   ],
   "source": [
    "matrix_a + matrix_b"
   ]
  },
  {
   "cell_type": "code",
   "execution_count": 14,
   "id": "fd72e671",
   "metadata": {},
   "outputs": [
    {
     "name": "stdout",
     "output_type": "stream",
     "text": [
      "[50]\n",
      "number of dimensions : 1\n",
      "shape of the matrix: (1,)\n"
     ]
    },
    {
     "data": {
      "text/plain": [
       "array([[ 58, 103,  65, 142,  61],\n",
       "       [139, 144, 135, 137, 100],\n",
       "       [ 56,  84,  93,  79, 136],\n",
       "       [137, 130, 121,  95,  80],\n",
       "       [132, 145,  68,  87, 120]])"
      ]
     },
     "execution_count": 14,
     "metadata": {},
     "output_type": "execute_result"
    }
   ],
   "source": [
    "matrix_c = np.random.randint(1, 100, (1))\n",
    "print(matrix_c)\n",
    "print('number of dimensions :', matrix_c.ndim)\n",
    "print('shape of the matrix:', matrix_c.shape)\n",
    "matrix_a + matrix_c"
   ]
  },
  {
   "cell_type": "markdown",
   "id": "f663b1ee",
   "metadata": {},
   "source": [
    "Exemple fent servir la classe **broadcast** de la llibreria **Numpy**:\n",
    "https://numpy.org/doc/stable/reference/generated/numpy.broadcast.html#numpy.broadcast"
   ]
  },
  {
   "cell_type": "code",
   "execution_count": 15,
   "id": "eaeb66b9",
   "metadata": {},
   "outputs": [
    {
     "data": {
      "text/plain": [
       "array([[5., 6., 7.],\n",
       "       [6., 7., 8.],\n",
       "       [7., 8., 9.]])"
      ]
     },
     "execution_count": 15,
     "metadata": {},
     "output_type": "execute_result"
    }
   ],
   "source": [
    "x = np.array([[1], [2], [3]])\n",
    "y = np.array([4, 5, 6])\n",
    "b = np.broadcast(x, y)\n",
    "out = np.empty(b.shape)\n",
    "out.flat = [u+v for (u,v) in b]\n",
    "out"
   ]
  },
  {
   "cell_type": "code",
   "execution_count": 16,
   "id": "2a488e66",
   "metadata": {},
   "outputs": [
    {
     "data": {
      "text/plain": [
       "array([[5, 6, 7],\n",
       "       [6, 7, 8],\n",
       "       [7, 8, 9]])"
      ]
     },
     "execution_count": 16,
     "metadata": {},
     "output_type": "execute_result"
    }
   ],
   "source": [
    "x + y"
   ]
  },
  {
   "cell_type": "code",
   "execution_count": 17,
   "id": "81b765be",
   "metadata": {},
   "outputs": [
    {
     "name": "stdout",
     "output_type": "stream",
     "text": [
      "[1. 2. 3. 4.]\n",
      "number of dimensions of Z : 1\n",
      "shape of the Z matrix: (4,)\n",
      "\n",
      " [[ 4 95 82]\n",
      " [12 59 94]\n",
      " [60 65 40]]\n",
      "number of dimensions of A : 2\n",
      "shape of the A matrix: (3, 3)\n",
      "\n",
      " [[82 24 64 96 71]\n",
      " [63 56 37 70 61]\n",
      " [61 16 53 39  3]\n",
      " [48 91 43 11 88]\n",
      " [66 98 91 96 64]]\n",
      "number of dimensions of B : 2\n",
      "shape of the B matrix: (5, 5)\n"
     ]
    },
    {
     "name": "stderr",
     "output_type": "stream",
     "text": [
      "Traceback (most recent call last):\n",
      "  File \"<stdin>\", line 19, in <module>\n",
      "ValueError: operands could not be broadcast together with shapes (3,3) (5,5) \n"
     ]
    }
   ],
   "source": [
    "%%script python --no-raise-error\n",
    "\n",
    "import numpy as np\n",
    "\n",
    "z = np.array([1.0, 2.0, 3.0, 4.0])\n",
    "print(z)\n",
    "print('number of dimensions of Z :', z.ndim)\n",
    "print('shape of the Z matrix:', z.shape)\n",
    "\n",
    "a = np.random.randint(1, 100, (3, 3))\n",
    "print('\\n',a)\n",
    "print('number of dimensions of A :', a.ndim)\n",
    "print('shape of the A matrix:', a.shape)\n",
    "\n",
    "b = np.random.randint(1, 100, (5, 5))\n",
    "print('\\n', b)\n",
    "print('number of dimensions of B :', b.ndim)\n",
    "print('shape of the B matrix:', b.shape)\n",
    "\n",
    "print('\\n', a * b)\n",
    "print('\\n', a * z)"
   ]
  },
  {
   "cell_type": "markdown",
   "id": "dd3c4276",
   "metadata": {},
   "source": [
    "### Exercici 5\n",
    "**Utilitza la Indexació per extreure els valors d'una columna i una fila de la matriu. I suma els seus valors.**"
   ]
  },
  {
   "cell_type": "code",
   "execution_count": 18,
   "id": "f3fdd325",
   "metadata": {},
   "outputs": [
    {
     "name": "stdout",
     "output_type": "stream",
     "text": [
      "[[28 48  6 41 73]\n",
      " [ 6 71 64 99  3]\n",
      " [15 88 18 64 43]\n",
      " [45 75 84 32 55]\n",
      " [91 34 55 64  9]]\n",
      "\n",
      "Row 2 - colum 3 value:  64\n",
      "\n",
      "Row 4 - colum 4 value:  32\n",
      "\n",
      "Sum values:  96\n"
     ]
    }
   ],
   "source": [
    "print(matrix)\n",
    "\n",
    "val_2_3 = matrix[1][2]\n",
    "print(\"\\nRow 2 - colum 3 value: \", val_2_3)\n",
    "\n",
    "val_4_4 = matrix[3][3]\n",
    "print(\"\\nRow 4 - colum 4 value: \", val_4_4)\n",
    "\n",
    "print(\"\\nSum values: \", val_2_3 + val_4_4)"
   ]
  },
  {
   "cell_type": "markdown",
   "id": "ea3cc62c",
   "metadata": {},
   "source": [
    "### Exercici 6\n",
    "\n",
    "**Mask la matriu anterior, realitzeu un càlcul booleà vectoritzat, agafant cada element i comprovant si es divideix uniformement per quatre. Això retorna una matriu de mask de la mateixa forma amb els resultats elementals del càlcul.**"
   ]
  },
  {
   "cell_type": "code",
   "execution_count": 19,
   "id": "c216462e",
   "metadata": {},
   "outputs": [
    {
     "name": "stdout",
     "output_type": "stream",
     "text": [
      "Original matrix:\n",
      "\n",
      " [[28 48  6 41 73]\n",
      " [ 6 71 64 99  3]\n",
      " [15 88 18 64 43]\n",
      " [45 75 84 32 55]\n",
      " [91 34 55 64  9]]\n",
      "\n",
      "\n",
      "Masked matrix:\n",
      "\n",
      " [[ True  True False False False]\n",
      " [False False  True False False]\n",
      " [False  True False  True False]\n",
      " [False False  True  True False]\n",
      " [False False False  True False]]\n"
     ]
    },
    {
     "data": {
      "text/plain": [
       "array([[1, 1, 0, 0, 0],\n",
       "       [0, 0, 1, 0, 0],\n",
       "       [0, 1, 0, 1, 0],\n",
       "       [0, 0, 1, 1, 0],\n",
       "       [0, 0, 0, 1, 0]])"
      ]
     },
     "execution_count": 19,
     "metadata": {},
     "output_type": "execute_result"
    }
   ],
   "source": [
    "print(\"Original matrix:\\n\\n\", matrix)\n",
    "\n",
    "masked_matrix = (matrix % 4 == 0)\n",
    "print(\"\\n\\nMasked matrix:\\n\\n\", masked_matrix)\n",
    "\n",
    "masked_matrix = masked_matrix.astype(np.int)\n",
    "masked_matrix"
   ]
  },
  {
   "cell_type": "markdown",
   "id": "ef1bf41f",
   "metadata": {},
   "source": [
    "### Exercici 7\n",
    "\n",
    "**A continuació, utilitzeu aquesta màscara per indexar a la matriu de números original. Això fa que la matriu perdi la seva forma original, reduint-la a una dimensió, però encara obteniu les dades que esteu cercant.**"
   ]
  },
  {
   "cell_type": "code",
   "execution_count": 20,
   "id": "c8083601",
   "metadata": {},
   "outputs": [
    {
     "data": {
      "text/plain": [
       "array([[28, 48,  0,  0,  0],\n",
       "       [ 0,  0, 64,  0,  0],\n",
       "       [ 0, 88,  0, 64,  0],\n",
       "       [ 0,  0, 84, 32,  0],\n",
       "       [ 0,  0,  0, 64,  0]])"
      ]
     },
     "execution_count": 20,
     "metadata": {},
     "output_type": "execute_result"
    }
   ],
   "source": [
    "indexed_array = matrix * masked_matrix\n",
    "indexed_array"
   ]
  },
  {
   "cell_type": "markdown",
   "id": "02273336",
   "metadata": {},
   "source": [
    "### Exercici 8\n",
    "\n",
    "**Manipulació d'imatges amb matplotlib**\n",
    "\n",
    "Carregareu qualsevol imatge (jpg, png ..) amb Matplotlib. Adoneu-vos que les imatges RGB (Red, Green, Blue) són realment només amplades × alçades × 3 matrius (tres canals Vermell, Verd i Blau), una per cada color de nombres enters int8.\n",
    "\n",
    "Ajuda: Importeu, ```import matplotlib.image as mpimg```. Estudieu el mètode ```mpimg.imread()```"
   ]
  },
  {
   "cell_type": "markdown",
   "id": "a51ab729",
   "metadata": {},
   "source": [
    "![Carnaval Image](img/carnaval.jpg)"
   ]
  },
  {
   "cell_type": "code",
   "execution_count": 21,
   "id": "8ea6f70e",
   "metadata": {},
   "outputs": [
    {
     "name": "stdout",
     "output_type": "stream",
     "text": [
      "[[[255 255 255]\n",
      "  [255 255 255]\n",
      "  [255 255 255]\n",
      "  ...\n",
      "  [ 55  50  72]\n",
      "  [ 43  38  60]\n",
      "  [ 36  28  49]]\n",
      "\n",
      " [[255 255 255]\n",
      "  [255 255 255]\n",
      "  [255 255 255]\n",
      "  ...\n",
      "  [ 62  54  77]\n",
      "  [ 49  41  64]\n",
      "  [ 40  32  53]]\n",
      "\n",
      " [[255 255 255]\n",
      "  [255 255 255]\n",
      "  [255 255 255]\n",
      "  ...\n",
      "  [ 69  61  85]\n",
      "  [ 57  49  72]\n",
      "  [ 46  38  61]]\n",
      "\n",
      " ...\n",
      "\n",
      " [[ 21  34  25]\n",
      "  [ 21  34  25]\n",
      "  [ 21  34  25]\n",
      "  ...\n",
      "  [190   4  27]\n",
      "  [190   4  27]\n",
      "  [186   0  23]]\n",
      "\n",
      " [[ 23  36  27]\n",
      "  [ 23  36  27]\n",
      "  [ 23  36  27]\n",
      "  ...\n",
      "  [190   4  27]\n",
      "  [190   4  27]\n",
      "  [186   0  23]]\n",
      "\n",
      " [[ 23  36  27]\n",
      "  [ 23  36  27]\n",
      "  [ 23  36  27]\n",
      "  ...\n",
      "  [190   4  27]\n",
      "  [190   4  27]\n",
      "  [186   0  23]]]\n"
     ]
    }
   ],
   "source": [
    "import matplotlib.image as mpimg\n",
    "\n",
    "img = mpimg.imread('img/carnaval.jpg', format='jpg')\n",
    "print(img)"
   ]
  },
  {
   "cell_type": "markdown",
   "id": "5b6b0032",
   "metadata": {},
   "source": [
    "**Manipuleu aquests bytes i torneu a utilitzar Matplotlib per desar la imatge modificada un cop hàgiu acabat.**\n",
    "\n",
    "**Mostreu-me a veure què passa quan eliminem el canal G Verd o B Blau. Hauries d'utilitzar la indexació per seleccionar el canal que voleu anul·lar.**\n",
    "\n",
    "**Utilitzar el mètode, mpimg.imsave() de la llibreria importada, per guardar les imatges modificades i que haureu de pujar al vostre repositori a github.**"
   ]
  },
  {
   "cell_type": "code",
   "execution_count": 22,
   "id": "e5ddff72",
   "metadata": {},
   "outputs": [
    {
     "data": {
      "text/plain": [
       "array([[[255,   0, 255],\n",
       "        [255,   0, 255],\n",
       "        [255,   0, 255],\n",
       "        ...,\n",
       "        [ 55,   0,  72],\n",
       "        [ 43,   0,  60],\n",
       "        [ 36,   0,  49]],\n",
       "\n",
       "       [[255,   0, 255],\n",
       "        [255,   0, 255],\n",
       "        [255,   0, 255],\n",
       "        ...,\n",
       "        [ 62,   0,  77],\n",
       "        [ 49,   0,  64],\n",
       "        [ 40,   0,  53]],\n",
       "\n",
       "       [[255,   0, 255],\n",
       "        [255,   0, 255],\n",
       "        [255,   0, 255],\n",
       "        ...,\n",
       "        [ 69,   0,  85],\n",
       "        [ 57,   0,  72],\n",
       "        [ 46,   0,  61]],\n",
       "\n",
       "       ...,\n",
       "\n",
       "       [[ 21,   0,  25],\n",
       "        [ 21,   0,  25],\n",
       "        [ 21,   0,  25],\n",
       "        ...,\n",
       "        [190,   0,  27],\n",
       "        [190,   0,  27],\n",
       "        [186,   0,  23]],\n",
       "\n",
       "       [[ 23,   0,  27],\n",
       "        [ 23,   0,  27],\n",
       "        [ 23,   0,  27],\n",
       "        ...,\n",
       "        [190,   0,  27],\n",
       "        [190,   0,  27],\n",
       "        [186,   0,  23]],\n",
       "\n",
       "       [[ 23,   0,  27],\n",
       "        [ 23,   0,  27],\n",
       "        [ 23,   0,  27],\n",
       "        ...,\n",
       "        [190,   0,  27],\n",
       "        [190,   0,  27],\n",
       "        [186,   0,  23]]])"
      ]
     },
     "execution_count": 22,
     "metadata": {},
     "output_type": "execute_result"
    }
   ],
   "source": [
    "no_green_img = img * [1, 0, 1]\n",
    "no_green_img"
   ]
  },
  {
   "cell_type": "code",
   "execution_count": 23,
   "id": "9a895c6e",
   "metadata": {},
   "outputs": [],
   "source": [
    "mpimg.imsave(\"img/no_green_img.jpg\", no_green_img.astype(np.uint8), format=\"jpg\")"
   ]
  },
  {
   "cell_type": "markdown",
   "id": "90c543ae",
   "metadata": {},
   "source": [
    "![Modified Image](img/no_green_img.jpg)"
   ]
  },
  {
   "cell_type": "code",
   "execution_count": 24,
   "id": "5f105198",
   "metadata": {},
   "outputs": [
    {
     "data": {
      "text/plain": [
       "array([[[255, 255,   0],\n",
       "        [255, 255,   0],\n",
       "        [255, 255,   0],\n",
       "        ...,\n",
       "        [ 55,  50,   0],\n",
       "        [ 43,  38,   0],\n",
       "        [ 36,  28,   0]],\n",
       "\n",
       "       [[255, 255,   0],\n",
       "        [255, 255,   0],\n",
       "        [255, 255,   0],\n",
       "        ...,\n",
       "        [ 62,  54,   0],\n",
       "        [ 49,  41,   0],\n",
       "        [ 40,  32,   0]],\n",
       "\n",
       "       [[255, 255,   0],\n",
       "        [255, 255,   0],\n",
       "        [255, 255,   0],\n",
       "        ...,\n",
       "        [ 69,  61,   0],\n",
       "        [ 57,  49,   0],\n",
       "        [ 46,  38,   0]],\n",
       "\n",
       "       ...,\n",
       "\n",
       "       [[ 21,  34,   0],\n",
       "        [ 21,  34,   0],\n",
       "        [ 21,  34,   0],\n",
       "        ...,\n",
       "        [190,   4,   0],\n",
       "        [190,   4,   0],\n",
       "        [186,   0,   0]],\n",
       "\n",
       "       [[ 23,  36,   0],\n",
       "        [ 23,  36,   0],\n",
       "        [ 23,  36,   0],\n",
       "        ...,\n",
       "        [190,   4,   0],\n",
       "        [190,   4,   0],\n",
       "        [186,   0,   0]],\n",
       "\n",
       "       [[ 23,  36,   0],\n",
       "        [ 23,  36,   0],\n",
       "        [ 23,  36,   0],\n",
       "        ...,\n",
       "        [190,   4,   0],\n",
       "        [190,   4,   0],\n",
       "        [186,   0,   0]]])"
      ]
     },
     "execution_count": 24,
     "metadata": {},
     "output_type": "execute_result"
    }
   ],
   "source": [
    "no_blue_img = img * [1, 1, 0]\n",
    "no_blue_img"
   ]
  },
  {
   "cell_type": "code",
   "execution_count": 25,
   "id": "f34e4d97",
   "metadata": {},
   "outputs": [],
   "source": [
    "mpimg.imsave(\"img/no_blue_img.jpg\", no_blue_img.astype(np.uint8), format=\"jpg\")"
   ]
  },
  {
   "cell_type": "markdown",
   "id": "453177f0",
   "metadata": {},
   "source": [
    "![Modified Image](img/no_blue_img.jpg)"
   ]
  },
  {
   "cell_type": "markdown",
   "id": "8e330067",
   "metadata": {},
   "source": [
    "## Resources\n",
    "\n",
    "* https://www.w3schools.com/python/numpy/numpy_intro.asp\n",
    "* https://numpy.org/doc/stable/user/basics.broadcasting.html\n",
    "* https://numpy.org/doc/stable/reference/generated/numpy.broadcast.html#numpy.broadcast\n",
    "* https://numpy.org/doc/stable/reference/routines.array-manipulation.html\n",
    "* https://numpy.org/doc/stable/reference/maskedarray.generic.html\n",
    "* https://www.python-course.eu/numpy_masking.php\n",
    "* https://matplotlib.org/stable/tutorials/introductory/images.html\n",
    "* https://matplotlib.org/stable/api/_as_gen/matplotlib.pyplot.imsave.html#matplotlib.pyplot.imsave"
   ]
  }
 ],
 "metadata": {
  "kernelspec": {
   "display_name": "Python 3",
   "language": "python",
   "name": "python3"
  },
  "language_info": {
   "codemirror_mode": {
    "name": "ipython",
    "version": 3
   },
   "file_extension": ".py",
   "mimetype": "text/x-python",
   "name": "python",
   "nbconvert_exporter": "python",
   "pygments_lexer": "ipython3",
   "version": "3.7.3"
  }
 },
 "nbformat": 4,
 "nbformat_minor": 5
}
