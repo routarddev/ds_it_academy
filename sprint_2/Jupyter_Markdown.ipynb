{
 "cells": [
  {
   "cell_type": "markdown",
   "metadata": {},
   "source": [
    "# Sprint 2: Jupyter Notebook and Markdown"
   ]
  },
  {
   "cell_type": "markdown",
   "metadata": {},
   "source": [
    "## Introduction to Python\n",
    "\n",
    "\n",
    "![Python Logo](img/python_logo.jpg)"
   ]
  },
  {
   "cell_type": "markdown",
   "metadata": {},
   "source": [
    "### Objectius\n",
    "* Crear variables\n",
    "* Operacions matemàtiques\n",
    "* Transforma amb càsting\n",
    "* Tècniques amb Strings\n",
    "* Booleans\n",
    "\n",
    "### Exercicis\n",
    "\n",
    "- **Exercici 1**\n",
    "Instal·la el programa Anaconda amb Python 3, i Jupyter Notebook. [Nota: Fet en local]\n",
    "\n",
    "- **Exercici 2**\n",
    "Utilitzant Jupyter Notebook executa alguns càlculs senzills, a la vegada que et familiaritzes amb el llenguatge Markdown.\n",
    "\n",
    "- **Exercici 3**\n",
    "Prova de crear títols, llistes, canviar l’estil de la lletra o afegir imatges dins del Notebook.\n",
    "\n",
    "- **Exercici 4**\n",
    "Exporta el Notebook com a pdf i com a html.\n",
    "\n",
    "- **Exercici 5**\n",
    "Instal·la Nbextensions al Notebook de Jupyter."
   ]
  },
  {
   "cell_type": "markdown",
   "metadata": {},
   "source": [
    "#### Operacions matemàtiques"
   ]
  },
  {
   "cell_type": "code",
   "execution_count": 1,
   "metadata": {},
   "outputs": [
    {
     "data": {
      "text/plain": [
       "4"
      ]
     },
     "execution_count": 1,
     "metadata": {},
     "output_type": "execute_result"
    }
   ],
   "source": [
    "2 + 2"
   ]
  },
  {
   "cell_type": "markdown",
   "metadata": {},
   "source": [
    "#### Creació de variables"
   ]
  },
  {
   "cell_type": "code",
   "execution_count": 2,
   "metadata": {},
   "outputs": [
    {
     "data": {
      "text/plain": [
       "2"
      ]
     },
     "execution_count": 2,
     "metadata": {},
     "output_type": "execute_result"
    }
   ],
   "source": [
    "remainder = 506 % 4\n",
    "remainder"
   ]
  },
  {
   "cell_type": "markdown",
   "metadata": {},
   "source": [
    "#### Casting"
   ]
  },
  {
   "cell_type": "code",
   "execution_count": 3,
   "metadata": {},
   "outputs": [
    {
     "data": {
      "text/plain": [
       "126"
      ]
     },
     "execution_count": 3,
     "metadata": {},
     "output_type": "execute_result"
    }
   ],
   "source": [
    "quotient = int(506 / 4)\n",
    "quotient"
   ]
  },
  {
   "cell_type": "code",
   "execution_count": 4,
   "metadata": {},
   "outputs": [
    {
     "data": {
      "text/plain": [
       "506"
      ]
     },
     "execution_count": 4,
     "metadata": {},
     "output_type": "execute_result"
    }
   ],
   "source": [
    "dividend = quotient * 4 + remainder\n",
    "dividend"
   ]
  },
  {
   "cell_type": "code",
   "execution_count": 5,
   "metadata": {},
   "outputs": [
    {
     "data": {
      "text/plain": [
       "int"
      ]
     },
     "execution_count": 5,
     "metadata": {},
     "output_type": "execute_result"
    }
   ],
   "source": [
    "type(dividend)"
   ]
  },
  {
   "cell_type": "markdown",
   "metadata": {},
   "source": [
    "#### Booleans"
   ]
  },
  {
   "cell_type": "code",
   "execution_count": 6,
   "metadata": {},
   "outputs": [
    {
     "name": "stdout",
     "output_type": "stream",
     "text": [
      "ON =  True\n",
      "OFF =  False\n",
      "\n",
      "ON and OFF = False\n",
      "ON or OFF = True\n"
     ]
    }
   ],
   "source": [
    "on = True\n",
    "off = False\n",
    "\n",
    "print(\"ON = \", on)\n",
    "print(\"OFF = \", off)\n",
    "\n",
    "result = on and off\n",
    "print(\"\\nON and OFF = {}\".format(result))\n",
    "\n",
    "result = on or off\n",
    "print(\"ON or OFF = {}\".format(result))"
   ]
  },
  {
   "cell_type": "markdown",
   "metadata": {},
   "source": [
    "#### Strings"
   ]
  },
  {
   "cell_type": "code",
   "execution_count": 7,
   "metadata": {},
   "outputs": [
    {
     "name": "stdout",
     "output_type": "stream",
     "text": [
      "Original name:  stockholm is cold\n",
      "Capitalize:  Stockholm is cold\n",
      "Is upper?  False\n",
      "Swap case:  STOCKHOLM IS COLD\n",
      "Title:  Stockholm Is Cold\n",
      "Is numeric?  False\n",
      "Length:  17\n",
      "Split:  ['stockholm', 'is', 'cold']\n"
     ]
    }
   ],
   "source": [
    "string = \"stockholm is cold\"\n",
    "print(\"Original name: \", string)\n",
    "print(\"Capitalize: \", string.capitalize())\n",
    "print(\"Is upper? \", string.isupper())\n",
    "print(\"Swap case: \", string.swapcase())\n",
    "print(\"Title: \", string.title())\n",
    "print(\"Is numeric? \", string.isnumeric())\n",
    "print(\"Length: \", len(string))\n",
    "print(\"Split: \", string.split())"
   ]
  },
  {
   "cell_type": "markdown",
   "metadata": {},
   "source": [
    "## Resum\n",
    "\n",
    "- [x] Exercici 1: **Instal·lació en local del programari**: Anaconda, Python 3 i Jupyter Notebook.\n",
    "\n",
    "\n",
    "- [x] Exercici 2: **Jupyter Notebook amd exemples** d'operacions bàsiques amb llenguatge Python.\n",
    "\n",
    "\n",
    "- [x] Exercici 3: Ús del llenguatge **Markdown** (títols, llistes, imatges, etc.)\n",
    "\n",
    "\n",
    "- [x] Exercici 4: Exportar el Notebook com a pdf i com a html. [Veure carpeta del repositori]\n",
    "\n",
    "\n",
    "- [x] Exercici 5: **Instal·lar Nbextensions** al Notebook de Jupyter:\n",
    "\n",
    "```pip install jupyter_contrib_nbextensions && jupyter contrib nbextension install --user```"
   ]
  },
  {
   "cell_type": "markdown",
   "metadata": {},
   "source": [
    "### Resources\n",
    "\n",
    "* https://jupyter-contrib-nbextensions.readthedocs.io/en/latest/install.html\n",
    "* https://www.markdownguide.org/extended-syntax/"
   ]
  }
 ],
 "metadata": {
  "kernelspec": {
   "display_name": "Python 3",
   "language": "python",
   "name": "python3"
  },
  "language_info": {
   "codemirror_mode": {
    "name": "ipython",
    "version": 3
   },
   "file_extension": ".py",
   "mimetype": "text/x-python",
   "name": "python",
   "nbconvert_exporter": "python",
   "pygments_lexer": "ipython3",
   "version": "3.7.7"
  }
 },
 "nbformat": 4,
 "nbformat_minor": 4
}
